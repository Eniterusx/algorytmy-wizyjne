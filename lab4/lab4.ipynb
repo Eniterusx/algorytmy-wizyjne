{
 "cells": [
  {
   "cell_type": "code",
   "execution_count": 1,
   "metadata": {},
   "outputs": [],
   "source": [
    "import numpy as np\n",
    "import cv2\n",
    "from matplotlib import pyplot as plt"
   ]
  },
  {
   "cell_type": "code",
   "execution_count": 2,
   "metadata": {},
   "outputs": [],
   "source": [
    "I = cv2.imread('data/cm1.png', cv2.IMREAD_GRAYSCALE) # wczesniejsza\n",
    "J = cv2.imread('data/cm2.png', cv2.IMREAD_GRAYSCALE) # pozniejsza\n",
    "\n",
    "# resize to half\n",
    "# I = cv2.resize(I, (0,0), fx=0.5, fy=0.5)\n",
    "# J = cv2.resize(J, (0,0), fx=0.5, fy=0.5)"
   ]
  },
  {
   "cell_type": "code",
   "execution_count": 3,
   "metadata": {},
   "outputs": [],
   "source": [
    "# show with named window\n",
    "cv2.imshow('I', I)\n",
    "cv2.imshow('J', J)\n",
    "\n",
    "absdiff = cv2.absdiff(I, J)\n",
    "cv2.imshow('absdiff', absdiff)\n",
    "\n",
    "# wait for any key to close windows\n",
    "cv2.waitKey(0)\n",
    "cv2.destroyAllWindows()"
   ]
  },
  {
   "cell_type": "code",
   "execution_count": 5,
   "metadata": {},
   "outputs": [],
   "source": [
    "W2 = 3\n",
    "dx = dy = 3\n",
    "\n",
    "u = v = np.zeros(I.shape, dtype=np.float32)\n",
    "\n",
    "for j in range(W2, I.shape[0], 1):\n",
    "    for i in range(W2, I.shape[1], 1):\n",
    "        if not (j-W2 >= 0 and j+W2+1 < I.shape[0] and i-W2 >= 0 and i+W2+1 < I.shape[1]):\n",
    "            continue\n",
    "        I0 = np.float32(I[j-W2:j+W2+1,i-W2:i+W2+1])\n",
    "        # print(j-W2, j+W2+1, i-W2, i+W2+1)\n",
    "        # check J(j,i) surrounding\n",
    "        smallest_dist = np.inf\n",
    "        best_i = 0\n",
    "        best_j = 0\n",
    "\n",
    "        for jj in range(-dx, dx+1):\n",
    "            for ii in range(-dy, dy+1):\n",
    "                if not (j+jj-W2 >= 0 and j+jj+W2+1 < J.shape[0] and i+ii-W2 >= 0 and i+ii+W2+1 < J.shape[1]):\n",
    "                    continue\n",
    "                J0 = np.float32(J[j+jj-W2:j+jj+W2+1,i+ii-W2:i+ii+W2+1])\n",
    "                dist = np.sqrt(np.sum(np.square(I0-J0)))\n",
    "                if dist < smallest_dist:\n",
    "                    smallest_dist = dist\n",
    "                    best_i = ii\n",
    "                    best_j = jj\n",
    "        v[j,i] = best_i\n",
    "        u[j,i] = best_j\n",
    "\n",
    "# visualize flow using HSV\n",
    "hsv = np.zeros((I.shape[0], I.shape[1], 3), dtype=np.uint8)\n",
    "hsv[...,2] = 255\n",
    "mag, ang = cv2.cartToPolar(np.float32(u), np.float32(v))\n",
    "hsv[...,0] = ang*180/np.pi/2\n",
    "hsv[...,1] = cv2.normalize(mag,None,0,255,cv2.NORM_MINMAX)\n",
    "rgb = cv2.cvtColor(hsv, cv2.COLOR_HSV2BGR)\n",
    "cv2.imshow('flow', rgb)\n",
    "cv2.waitKey(0)\n",
    "cv2.destroyAllWindows()"
   ]
  },
  {
   "cell_type": "code",
   "execution_count": null,
   "metadata": {},
   "outputs": [],
   "source": []
  }
 ],
 "metadata": {
  "kernelspec": {
   "display_name": "algwiz",
   "language": "python",
   "name": "python3"
  },
  "language_info": {
   "codemirror_mode": {
    "name": "ipython",
    "version": 3
   },
   "file_extension": ".py",
   "mimetype": "text/x-python",
   "name": "python",
   "nbconvert_exporter": "python",
   "pygments_lexer": "ipython3",
   "version": "3.8.18"
  }
 },
 "nbformat": 4,
 "nbformat_minor": 2
}
