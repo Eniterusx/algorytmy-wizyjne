{
 "cells": [
  {
   "cell_type": "code",
   "execution_count": 88,
   "metadata": {},
   "outputs": [],
   "source": [
    "import cv2\n",
    "import matplotlib.pyplot as plt\n",
    "import numpy as np\n",
    "import scipy\n",
    "import math\n",
    "import skimage"
   ]
  },
  {
   "cell_type": "code",
   "execution_count": 2,
   "metadata": {},
   "outputs": [],
   "source": [
    "data_folder = \"data/\""
   ]
  },
  {
   "cell_type": "code",
   "execution_count": 70,
   "metadata": {},
   "outputs": [],
   "source": [
    "img_name = \"pos/per00060.ppm\"\n",
    "# image = cv2.imread(data_folder + img_name)\n",
    "image = cv2.imread(data_folder + img_name, cv2.IMREAD_GRAYSCALE)\n",
    "# cv2.imshow('Image', image)\n",
    "# cv2.waitKey(0)\n",
    "# cv2.destroyAllWindows()"
   ]
  },
  {
   "cell_type": "code",
   "execution_count": 85,
   "metadata": {},
   "outputs": [],
   "source": [
    "def process_image(image):\n",
    "    dx = scipy.ndimage.filters.convolve1d(np.int32(image), np.array([-1, 0, 1]), 1)\n",
    "    dy = scipy.ndimage.filters.convolve1d(np.int32(image), np.array([-1, 0, 1]), 0)\n",
    "\n",
    "    magnitude = np.sqrt(dx ** 2 + dy ** 2)\n",
    "\n",
    "    # check if image is in grayscale\n",
    "    grayscale = True if len(image.shape) == 2 else False\n",
    "\n",
    "    if not grayscale:\n",
    "        max_B = np.logical_and(magnitude[:, :, 1] < magnitude[:, :, 0], magnitude[:, :, 2] < magnitude[:, :, 0])\n",
    "        max_G = np.logical_and(magnitude[:, :, 0] < magnitude[:, :, 1], magnitude[:, :, 2] < magnitude[:, :, 1])\n",
    "        max_R = np.logical_and(magnitude[:, :, 0] < magnitude[:, :, 2], magnitude[:, :, 1] < magnitude[:, :, 2])\n",
    "        magnitude = np.array([max_R, max_G, max_B])\n",
    "        magnitude = np.moveaxis(magnitude, 0, 2)\n",
    "\n",
    "    # calculate orientation in degrees\n",
    "    orientation = np.arctan2(dy, dx) * 180 / np.pi\n",
    "    print(magnitude.shape, orientation.shape)\n",
    "\n",
    "\n",
    "    return magnitude, orientation\n",
    "\n",
    "def compute_histograms(magnitude, orientation, cell_size=8, num_bins=9):\n",
    "    # Rozmiar obrazu\n",
    "    height, width = magnitude.shape\n",
    "    \n",
    "    # Liczba komórek w pionie i poziomie\n",
    "    cells_y = height // cell_size\n",
    "    cells_x = width // cell_size\n",
    "    \n",
    "    # Inicjalizacja kontenera na histogramy\n",
    "    histograms = np.zeros((cells_y, cells_x, num_bins))\n",
    "    \n",
    "    # Środek przedziałów histogramów\n",
    "    bin_centers = np.linspace(0, 180, num_bins, endpoint=False) + 180 / num_bins / 2\n",
    "    \n",
    "    for y in range(cells_y):\n",
    "        for x in range(cells_x):\n",
    "            # Pobieranie wartości z odpowiedniej komórki\n",
    "            mag_cell = magnitude[y*cell_size:(y+1)*cell_size, x*cell_size:(x+1)*cell_size]\n",
    "            ori_cell = orientation[y*cell_size:(y+1)*cell_size, x*cell_size:(x+1)*cell_size]\n",
    "            \n",
    "            # Obsługa ujemnych kątów\n",
    "            ori_cell[ori_cell < 0] += 180\n",
    "            \n",
    "            # Wyznaczanie histogramu dla komórki\n",
    "            hist = np.zeros(num_bins)\n",
    "            \n",
    "            for i in range(cell_size):\n",
    "                for j in range(cell_size):\n",
    "                    mag = mag_cell[i, j]\n",
    "                    ori = ori_cell[i, j]\n",
    "                    \n",
    "                    # Znajdowanie binu\n",
    "                    bin_idx = np.searchsorted(bin_centers, ori) % num_bins\n",
    "                    bin_center = bin_centers[bin_idx]\n",
    "                    \n",
    "                    # Wyznaczanie sąsiednich binów\n",
    "                    if ori < bin_center:\n",
    "                        prev_bin_idx = (bin_idx - 1) % num_bins\n",
    "                    else:\n",
    "                        prev_bin_idx = (bin_idx + 1) % num_bins\n",
    "                    \n",
    "                    # Wyznaczanie odległości od binów\n",
    "                    dist_to_center = np.abs(ori - bin_center)\n",
    "                    dist_to_prev = np.abs(ori - bin_centers[prev_bin_idx])\n",
    "                    \n",
    "                    # Interpolacja biliniowa\n",
    "                    hist[bin_idx] += mag * (1 - dist_to_center / (180 / num_bins))\n",
    "                    hist[prev_bin_idx] += mag * (1 - dist_to_prev / (180 / num_bins))\n",
    "            \n",
    "            histograms[y, x, :] = hist\n",
    "\n",
    "          \n",
    "    return histograms\n",
    "\n",
    "def normalize_histograms(histograms, block_size=2):\n",
    "    cells_y, cells_x, num_bins = histograms.shape\n",
    "    e = 1e-5\n",
    "    F = []\n",
    "\n",
    "    for y in range(cells_y - 1):\n",
    "        for x in range(cells_x - 1):\n",
    "            H0 = histograms[y, x, :]\n",
    "            H1 = histograms[y, x + 1, :]\n",
    "            H2 = histograms[y + 1, x, :]\n",
    "            H3 = histograms[y + 1, x + 1, :]\n",
    "            H = np.concatenate((H0, H1, H2, H3))\n",
    "            n = np.linalg.norm(H)\n",
    "            Hn = H / np.sqrt(n**2 + e)\n",
    "            F.append(Hn)\n",
    "\n",
    "    F = np.concatenate(F)\n",
    "    return F\n"
   ]
  },
  {
   "cell_type": "code",
   "execution_count": 90,
   "metadata": {},
   "outputs": [],
   "source": [
    "def HOGpicture(w, bs): # w -histogram, bs - cell size\n",
    "    bim1 = np.zeros((bs, bs))\n",
    "    bim1[np.round(bs//2):np.round(bs//2)+1,:] = 1\n",
    "    bim = np.zeros(bim1.shape+(9,))\n",
    "    bim[:,:,0] = bim1\n",
    "    for i in range(9):\n",
    "        bim[:,:,i] = skimage.transform.rotate(bim1, -1*20, 'nearest')/255\n",
    "\n",
    "    Y,X,Z = w.shape\n",
    "    w[w < 0] = 0\n",
    "    im = np.zeros((bs*Y, bs*X))\n",
    "    for i in range(Y):\n",
    "        iisl = (i)*bs\n",
    "        iisu = (i+1)*bs\n",
    "        for j in range(X):\n",
    "            jjsl = j*bs\n",
    "            jjsu = (j+1)*bs\n",
    "            for k in range(9):\n",
    "                im[iisl:iisu, jjsl:jjsu] += bim[:,:,k]*w[i,j,k]\n",
    "    return im"
   ]
  },
  {
   "cell_type": "code",
   "execution_count": 91,
   "metadata": {},
   "outputs": [
    {
     "name": "stdout",
     "output_type": "stream",
     "text": [
      "(128, 64) (128, 64)\n"
     ]
    },
    {
     "name": "stderr",
     "output_type": "stream",
     "text": [
      "/tmp/ipykernel_448475/2561276833.py:2: DeprecationWarning: Please use `convolve1d` from the `scipy.ndimage` namespace, the `scipy.ndimage.filters` namespace is deprecated.\n",
      "  dx = scipy.ndimage.filters.convolve1d(np.int32(image), np.array([-1, 0, 1]), 1)\n",
      "/tmp/ipykernel_448475/2561276833.py:3: DeprecationWarning: Please use `convolve1d` from the `scipy.ndimage` namespace, the `scipy.ndimage.filters` namespace is deprecated.\n",
      "  dy = scipy.ndimage.filters.convolve1d(np.int32(image), np.array([-1, 0, 1]), 0)\n"
     ]
    },
    {
     "ename": "ValueError",
     "evalue": "could not broadcast input array from shape (10,10) into shape (8,8)",
     "output_type": "error",
     "traceback": [
      "\u001b[0;31m---------------------------------------------------------------------------\u001b[0m",
      "\u001b[0;31mValueError\u001b[0m                                Traceback (most recent call last)",
      "Cell \u001b[0;32mIn[91], line 12\u001b[0m\n\u001b[1;32m     10\u001b[0m \u001b[38;5;28;01melse\u001b[39;00m:\n\u001b[1;32m     11\u001b[0m     hist \u001b[38;5;241m=\u001b[39m compute_histograms(magnitude, orientation)\n\u001b[0;32m---> 12\u001b[0m     plt\u001b[38;5;241m.\u001b[39mimshow(\u001b[43mHOGpicture\u001b[49m\u001b[43m(\u001b[49m\u001b[43mhist\u001b[49m\u001b[43m,\u001b[49m\u001b[43m \u001b[49m\u001b[38;5;241;43m8\u001b[39;49m\u001b[43m)\u001b[49m)\n\u001b[1;32m     13\u001b[0m     plt\u001b[38;5;241m.\u001b[39mshow()\n\u001b[1;32m     14\u001b[0m     histograms\u001b[38;5;241m.\u001b[39mappend(normalize_histograms(hist))\n",
      "Cell \u001b[0;32mIn[90], line 7\u001b[0m, in \u001b[0;36mHOGpicture\u001b[0;34m(w, bs)\u001b[0m\n\u001b[1;32m      5\u001b[0m bim[:,:,\u001b[38;5;241m0\u001b[39m] \u001b[38;5;241m=\u001b[39m bim1\n\u001b[1;32m      6\u001b[0m \u001b[38;5;28;01mfor\u001b[39;00m i \u001b[38;5;129;01min\u001b[39;00m \u001b[38;5;28mrange\u001b[39m(\u001b[38;5;241m9\u001b[39m):\n\u001b[0;32m----> 7\u001b[0m     \u001b[43mbim\u001b[49m\u001b[43m[\u001b[49m\u001b[43m:\u001b[49m\u001b[43m,\u001b[49m\u001b[43m:\u001b[49m\u001b[43m,\u001b[49m\u001b[43mi\u001b[49m\u001b[43m]\u001b[49m \u001b[38;5;241m=\u001b[39m skimage\u001b[38;5;241m.\u001b[39mtransform\u001b[38;5;241m.\u001b[39mrotate(bim1, \u001b[38;5;241m-\u001b[39m\u001b[38;5;241m1\u001b[39m\u001b[38;5;241m*\u001b[39m\u001b[38;5;241m20\u001b[39m, \u001b[38;5;124m'\u001b[39m\u001b[38;5;124mnearest\u001b[39m\u001b[38;5;124m'\u001b[39m)\u001b[38;5;241m/\u001b[39m\u001b[38;5;241m255\u001b[39m\n\u001b[1;32m      9\u001b[0m Y,X,Z \u001b[38;5;241m=\u001b[39m w\u001b[38;5;241m.\u001b[39mshape\n\u001b[1;32m     10\u001b[0m w[w \u001b[38;5;241m<\u001b[39m \u001b[38;5;241m0\u001b[39m] \u001b[38;5;241m=\u001b[39m \u001b[38;5;241m0\u001b[39m\n",
      "\u001b[0;31mValueError\u001b[0m: could not broadcast input array from shape (10,10) into shape (8,8)"
     ]
    }
   ],
   "source": [
    "magnitude, orientation = process_image(image)\n",
    "\n",
    "histograms = []\n",
    "if len(magnitude.shape) == 3:\n",
    "    for i in range(magnitude.shape[2]):\n",
    "        hist = compute_histograms(magnitude[:, :, i], orientation[:, :, i])\n",
    "        plt.imshow(HOGpicture(hist, 8))\n",
    "        plt.show()\n",
    "        histograms.append(normalize_histograms(hist))\n",
    "else:\n",
    "    hist = compute_histograms(magnitude, orientation)\n",
    "    plt.imshow(HOGpicture(hist, 8))\n",
    "    plt.show()\n",
    "    histograms.append(normalize_histograms(hist))\n"
   ]
  },
  {
   "cell_type": "code",
   "execution_count": 75,
   "metadata": {},
   "outputs": [
    {
     "name": "stdout",
     "output_type": "stream",
     "text": [
      "-0.4052102676066403\n",
      "-0.42153213774697246\n",
      "0.022266785902243888\n",
      "0.05327824050964546\n",
      "0.06484461385154174\n",
      "0.054245232971517406\n",
      "0.02552632446347145\n",
      "0.06198837837743398\n",
      "-0.4530915692108175\n",
      "-0.17488465010194948\n"
     ]
    }
   ],
   "source": [
    "for x in range(10):\n",
    "    print(histograms[0][x])"
   ]
  },
  {
   "cell_type": "code",
   "execution_count": null,
   "metadata": {},
   "outputs": [],
   "source": [
    "HOG_data = np.zeros([2*100, 3781], np.float32)\n",
    "\n",
    "for i in range(100):\n",
    "    IP = cv2.imread('pos/per%05d.ppm' % (i+1))\n",
    "    IN = cv2.imread('neg/neg%05d.png' % (i+1))\n",
    "    F = hog(IP)\n",
    "    HOG_data[i,0] = 1\n",
    "    HOG_data[i,1:] = F\n",
    "    F = hog(IN)\n",
    "    HOG_data[i+100,0] = 0\n",
    "    HOG_data[i+100,1:] = F"
   ]
  }
 ],
 "metadata": {
  "kernelspec": {
   "display_name": "algwiz",
   "language": "python",
   "name": "python3"
  },
  "language_info": {
   "codemirror_mode": {
    "name": "ipython",
    "version": 3
   },
   "file_extension": ".py",
   "mimetype": "text/x-python",
   "name": "python",
   "nbconvert_exporter": "python",
   "pygments_lexer": "ipython3",
   "version": "3.8.18"
  }
 },
 "nbformat": 4,
 "nbformat_minor": 2
}
