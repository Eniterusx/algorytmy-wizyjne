{
 "cells": [
  {
   "cell_type": "code",
   "execution_count": 1,
   "metadata": {},
   "outputs": [],
   "source": [
    "import cv2\n",
    "import matplotlib.pyplot as plt\n",
    "import numpy as np"
   ]
  },
  {
   "cell_type": "code",
   "execution_count": 2,
   "metadata": {},
   "outputs": [],
   "source": [
    "cap = cv2.VideoCapture('data/vid1_IR.avi')"
   ]
  },
  {
   "cell_type": "code",
   "execution_count": 6,
   "metadata": {},
   "outputs": [],
   "source": [
    "while cap.isOpened():\n",
    "    ret, frame = cap.read()\n",
    "    if not ret:\n",
    "        break\n",
    "    \n",
    "    G = cv2.cvtColor(frame, cv2.COLOR_BGR2GRAY)\n",
    "    cv2.imshow('IR', G)\n",
    "    if cv2.waitKey(1) & 0xFF == ord('q'):\n",
    "        break\n",
    "    \n",
    "cap.release()\n",
    "cv2.destroyAllWindows()"
   ]
  },
  {
   "cell_type": "code",
   "execution_count": 3,
   "metadata": {},
   "outputs": [],
   "source": [
    "def process_frame(current_frame: np.ndarray) -> np.ndarray:\n",
    "    original_image: np.ndarray = current_frame.copy()\n",
    "    \n",
    "    gray_image: np.ndarray = cv2.cvtColor(current_frame, cv2.COLOR_BGR2GRAY)\n",
    "    \n",
    "    _, threshold_image = cv2.threshold(gray_image, 45, 255, cv2.THRESH_BINARY)\n",
    "    median: np.ndarray = cv2.medianBlur(threshold_image, 7)\n",
    "\n",
    "    dilated = cv2.dilate(median, np.ones((5, 5), np.uint8))\n",
    "    closed: np.ndarray = cv2.morphologyEx(dilated, cv2.MORPH_CLOSE, np.ones((7, 7), np.uint8), iterations=2)\n",
    "\n",
    "    num_labels, labels, stats, centroids = cv2.connectedComponentsWithStats(closed)\n",
    "    \n",
    "    objects_on_screen: bool = num_labels > 1\n",
    "    if objects_on_screen:\n",
    "        for object_index in range(1, num_labels):\n",
    "            x, y, w, h, area = stats[object_index]\n",
    "            \n",
    "            too_small: bool = area < 1400\n",
    "            not_rectangle: bool = abs(w - h) < 30\n",
    "            if too_small or not_rectangle:\n",
    "                continue\n",
    "                \n",
    "            centroid_x, centroid_y = centroids[object_index]\n",
    "            \n",
    "            cv2.rectangle(original_image, (x, y), (x + w, y + h), (0, 255, 0), 2)\n",
    "    \n",
    "    return original_image\n",
    "\n",
    "def process_video(file: str) -> None:\n",
    "    capture = cv2.VideoCapture(file)\n",
    "\n",
    "    while capture.isOpened():\n",
    "        has_next_frame, current_frame = capture.read()\n",
    "        if not has_next_frame:\n",
    "            break\n",
    "    \n",
    "        new_image = process_frame(current_frame)\n",
    "        cv2.imshow('IR', new_image)\n",
    "        if cv2.waitKey(1) & 0xFF == ord('q'):\n",
    "            break\n",
    "\n",
    "    capture.release()\n",
    "    cv2.destroyAllWindows()\n",
    "\n",
    "process_video('data/vid1_IR.avi')"
   ]
  }
 ],
 "metadata": {
  "kernelspec": {
   "display_name": "algwiz",
   "language": "python",
   "name": "python3"
  },
  "language_info": {
   "codemirror_mode": {
    "name": "ipython",
    "version": 3
   },
   "file_extension": ".py",
   "mimetype": "text/x-python",
   "name": "python",
   "nbconvert_exporter": "python",
   "pygments_lexer": "ipython3",
   "version": "3.8.18"
  }
 },
 "nbformat": 4,
 "nbformat_minor": 2
}
