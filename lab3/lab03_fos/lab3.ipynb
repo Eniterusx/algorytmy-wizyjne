{
 "cells": [
  {
   "cell_type": "code",
   "execution_count": 3,
   "metadata": {},
   "outputs": [],
   "source": [
    "import numpy as np\n",
    "import cv2\n",
    "import os"
   ]
  },
  {
   "cell_type": "code",
   "execution_count": 21,
   "metadata": {},
   "outputs": [],
   "source": [
    "def sample_buffer_method(capture, N=60, use_median=True):\n",
    "    N = 60 # buffer size\n",
    "    YY = int(capture.get(cv2.CAP_PROP_FRAME_HEIGHT))\n",
    "    XX = int(capture.get(cv2.CAP_PROP_FRAME_WIDTH))\n",
    "    BUF = np.zeros((YY, XX, N), np.uint8)\n",
    "    iN = 0\n",
    "\n",
    "    TP = 0\n",
    "    FP = 0\n",
    "    FN = 0\n",
    "\n",
    "    iterator = 1\n",
    "\n",
    "    while True:\n",
    "        ret, frame = capture.read()\n",
    "        if ret:\n",
    "            frame = cv2.cvtColor(frame, cv2.COLOR_BGR2GRAY)\n",
    "            BUF[:,:,iN] = frame\n",
    "            iN = (iN + 1) % N\n",
    "\n",
    "            truth_frame = cv2.imread('../groundtruth/gt%06d.png' % iterator, cv2.IMREAD_GRAYSCALE)\n",
    "            truth_frame = cv2.resize(truth_frame, (XX, YY))\n",
    "\n",
    "\n",
    "            if use_median:\n",
    "                avg = np.median(BUF, axis=2).astype(np.uint8)\n",
    "            else:\n",
    "                avg = np.mean(BUF, axis=2).astype(np.uint8)\n",
    "\n",
    "            diff = cv2.absdiff(frame, avg)\n",
    "\n",
    "            # binary threshold\n",
    "            diff[diff > 50] = 255\n",
    "            diff[diff <= 50] = 0\n",
    "\n",
    "            # morphological operations\n",
    "            kernel = np.ones((5,5), np.uint8)\n",
    "            diff = cv2.morphologyEx(diff, cv2.MORPH_CLOSE, kernel)\n",
    "            diff = cv2.morphologyEx(diff, cv2.MORPH_OPEN, kernel)\n",
    "        \n",
    "            # show diff image and truth image side by side\n",
    "            cv2.imshow('diff', diff)\n",
    "            cv2.imshow('truth', truth_frame)\n",
    "\n",
    "            # calculate f1 using ground truth\n",
    "            if iterator >= 300:\n",
    "                TP += np.sum(np.logical_and(diff == 255, truth_frame > 0))\n",
    "                FP += np.sum(np.logical_and(diff == 255, truth_frame == 0))\n",
    "                FN += np.sum(np.logical_and(diff == 0, truth_frame > 10))\n",
    "\n",
    "            if cv2.waitKey(1) & 0xFF == ord('q'):\n",
    "                break\n",
    "        else:\n",
    "            break\n",
    "        iterator += 1\n",
    "    cv2.destroyAllWindows()\n",
    "\n",
    "    precission = TP / (TP + FP)\n",
    "    recall = TP / (TP + FN)\n",
    "    f1 = 2 * TP / (2 * TP + FP + FN)\n",
    "    print('Precission: %f' % precission)\n",
    "    print('Recall: %f' % recall)\n",
    "    print('F1: %f' % f1)"
   ]
  },
  {
   "cell_type": "code",
   "execution_count": 22,
   "metadata": {},
   "outputs": [
    {
     "name": "stdout",
     "output_type": "stream",
     "text": [
      "Precission: 0.675166\n",
      "Recall: 0.262577\n",
      "F1: 0.378106\n"
     ]
    }
   ],
   "source": [
    "capture = cv2.VideoCapture('pedestrians_input.mp4')\n",
    "sample_buffer_method(capture, N=60, use_median=True)"
   ]
  },
  {
   "cell_type": "code",
   "execution_count": 23,
   "metadata": {},
   "outputs": [
    {
     "name": "stdout",
     "output_type": "stream",
     "text": [
      "Precission: 0.682566\n",
      "Recall: 0.251001\n",
      "F1: 0.367032\n"
     ]
    }
   ],
   "source": [
    "capture = cv2.VideoCapture('pedestrians_input.mp4')\n",
    "sample_buffer_method(capture, N=60, use_median=False)"
   ]
  },
  {
   "cell_type": "code",
   "execution_count": 10,
   "metadata": {},
   "outputs": [],
   "source": [
    "def approx_method(capture, alpha=0.01, use_median=True):\n",
    "    YY = int(capture.get(cv2.CAP_PROP_FRAME_HEIGHT))\n",
    "    XX = int(capture.get(cv2.CAP_PROP_FRAME_WIDTH))\n",
    "\n",
    "    BG = None\n",
    "\n",
    "    TP = 0\n",
    "    FP = 0\n",
    "    FN = 0\n",
    "\n",
    "    iterator = 1\n",
    "\n",
    "    while True:\n",
    "        ret, frame = capture.read()\n",
    "        if ret:\n",
    "            truth_frame = cv2.imread('../groundtruth/gt%06d.png' % iterator, cv2.IMREAD_GRAYSCALE)\n",
    "            truth_frame = cv2.resize(truth_frame, (XX, YY))\n",
    "\n",
    "            frame = cv2.cvtColor(frame, cv2.COLOR_BGR2GRAY)\n",
    "\n",
    "            if BG is None:\n",
    "                BG = frame\n",
    "            else:\n",
    "                if use_median:\n",
    "                    # if new pixel is brighter than median, median + 1, if darker median -1 else median\n",
    "                    BG = np.where(frame > BG, BG + 1, np.where(frame < BG, BG - 1, BG))\n",
    "                else:\n",
    "                    BG = alpha * frame + (1 - alpha) * BG\n",
    "\n",
    "            diff = cv2.absdiff(frame, BG.astype(np.uint8))\n",
    "\n",
    "            # binary threshold\n",
    "            diff[diff > 30] = 255\n",
    "            diff[diff <= 30] = 0\n",
    "\n",
    "            # morphological operations\n",
    "            kernel = np.ones((5,5), np.uint8)\n",
    "            diff = cv2.morphologyEx(diff, cv2.MORPH_CLOSE, kernel)\n",
    "            diff = cv2.morphologyEx(diff, cv2.MORPH_OPEN, kernel)\n",
    "\n",
    "            # show diff image and truth image side by side\n",
    "            cv2.imshow('diff', diff)\n",
    "            cv2.imshow('BG', BG.astype(np.uint8))\n",
    "            cv2.imshow('truth', truth_frame)\n",
    "        \n",
    "            # calculate f1 using ground truth\n",
    "            if iterator >= 300:\n",
    "                TP += np.sum(np.logical_and(diff == 255, truth_frame > 0))\n",
    "                FP += np.sum(np.logical_and(diff == 255, truth_frame == 0))\n",
    "                FN += np.sum(np.logical_and(diff == 0, truth_frame > 10))\n",
    "\n",
    "            if cv2.waitKey(1) & 0xFF == ord('q'):\n",
    "                break\n",
    "        else:\n",
    "            break\n",
    "        iterator += 1\n",
    "    cv2.destroyAllWindows()\n",
    "\n",
    "    precission = TP / (TP + FP)\n",
    "    recall = TP / (TP + FN)\n",
    "    f1 = 2 * TP / (2 * TP + FP + FN)\n",
    "    print('Precission: %f' % precission)\n",
    "    print('Recall: %f' % recall)\n",
    "    print('F1: %f' % f1)"
   ]
  },
  {
   "cell_type": "code",
   "execution_count": 25,
   "metadata": {},
   "outputs": [
    {
     "name": "stdout",
     "output_type": "stream",
     "text": [
      "Precission: 0.657093\n",
      "Recall: 0.311287\n",
      "F1: 0.422446\n"
     ]
    }
   ],
   "source": [
    "capture = cv2.VideoCapture('pedestrians_input.mp4')\n",
    "approx_method(capture, use_median=True)"
   ]
  },
  {
   "cell_type": "code",
   "execution_count": 29,
   "metadata": {},
   "outputs": [
    {
     "name": "stdout",
     "output_type": "stream",
     "text": [
      "Precission: 0.652300\n",
      "Recall: 0.313493\n",
      "F1: 0.423468\n"
     ]
    }
   ],
   "source": [
    "capture = cv2.VideoCapture('pedestrians_input.mp4')\n",
    "approx_method(capture, alpha=0.01, use_median=False)"
   ]
  },
  {
   "cell_type": "code",
   "execution_count": 36,
   "metadata": {},
   "outputs": [],
   "source": [
    "def approx_method_conservative(capture, alpha=0.01, use_median=True):\n",
    "    YY = int(capture.get(cv2.CAP_PROP_FRAME_HEIGHT))\n",
    "    XX = int(capture.get(cv2.CAP_PROP_FRAME_WIDTH))\n",
    "\n",
    "    BG = None\n",
    "\n",
    "    TP = 0\n",
    "    FP = 0\n",
    "    FN = 0\n",
    "\n",
    "    iterator = 1\n",
    "    prev_diff = np.ones((YY, XX), np.uint8) * 255\n",
    "\n",
    "    while True:\n",
    "        ret, frame = capture.read()\n",
    "        if ret:\n",
    "            truth_frame = cv2.imread('../groundtruth/gt%06d.png' % iterator, cv2.IMREAD_GRAYSCALE)\n",
    "            truth_frame = cv2.resize(truth_frame, (XX, YY))\n",
    "\n",
    "            frame = cv2.cvtColor(frame, cv2.COLOR_BGR2GRAY)\n",
    "\n",
    "            if BG is None:\n",
    "                BG = frame\n",
    "            else:\n",
    "                if use_median:\n",
    "                    # if new pixel is brighter than median, median + 1, if darker median -1 else median\n",
    "                    # however only update the pixel where prev_diff is 0\n",
    "                    BG = np.where(prev_diff == 0, np.where(frame > BG, BG + 1, np.where(frame < BG, BG - 1, BG)), BG)\n",
    "                else:\n",
    "                    # only update the pixel where prev_diff is 0\n",
    "                    BG = np.where(prev_diff == 0, alpha * frame + (1 - alpha) * BG, BG)\n",
    "\n",
    "            diff = cv2.absdiff(frame, BG.astype(np.uint8))\n",
    "\n",
    "            # binary threshold\n",
    "            diff[diff > 30] = 255\n",
    "            diff[diff <= 30] = 0\n",
    "\n",
    "            # morphological operations\n",
    "            kernel = np.ones((5,5), np.uint8)\n",
    "            diff = cv2.morphologyEx(diff, cv2.MORPH_CLOSE, kernel)\n",
    "            diff = cv2.morphologyEx(diff, cv2.MORPH_OPEN, kernel)\n",
    "\n",
    "            # show diff image and truth image side by side\n",
    "            cv2.imshow('diff', diff)\n",
    "            cv2.imshow('BG', BG.astype(np.uint8))\n",
    "            cv2.imshow('truth', truth_frame)\n",
    "        \n",
    "            # calculate f1 using ground truth\n",
    "            if iterator >= 300:\n",
    "                TP += np.sum(np.logical_and(diff == 255, truth_frame > 0))\n",
    "                FP += np.sum(np.logical_and(diff == 255, truth_frame == 0))\n",
    "                FN += np.sum(np.logical_and(diff == 0, truth_frame > 10))\n",
    "\n",
    "            prev_diff = diff\n",
    "\n",
    "            if cv2.waitKey(1) & 0xFF == ord('q'):\n",
    "                break\n",
    "        else:\n",
    "            break\n",
    "        iterator += 1\n",
    "    cv2.destroyAllWindows()\n",
    "\n",
    "    precission = TP / (TP + FP)\n",
    "    recall = TP / (TP + FN)\n",
    "    f1 = 2 * TP / (2 * TP + FP + FN)\n",
    "    print('Precission: %f' % precission)\n",
    "    print('Recall: %f' % recall)\n",
    "    print('F1: %f' % f1)"
   ]
  },
  {
   "cell_type": "code",
   "execution_count": 37,
   "metadata": {},
   "outputs": [
    {
     "name": "stdout",
     "output_type": "stream",
     "text": [
      "Precission: 0.652753\n",
      "Recall: 0.315407\n",
      "F1: 0.425308\n"
     ]
    }
   ],
   "source": [
    "capture = cv2.VideoCapture('pedestrians_input.mp4')\n",
    "approx_method_conservative(capture, alpha=0.01, use_median=True)"
   ]
  },
  {
   "cell_type": "code",
   "execution_count": 38,
   "metadata": {},
   "outputs": [
    {
     "name": "stdout",
     "output_type": "stream",
     "text": [
      "Precission: 0.648951\n",
      "Recall: 0.318844\n",
      "F1: 0.427599\n"
     ]
    }
   ],
   "source": [
    "capture = cv2.VideoCapture('pedestrians_input.mp4')\n",
    "approx_method_conservative(capture, alpha=0.01, use_median=False)"
   ]
  },
  {
   "cell_type": "code",
   "execution_count": 61,
   "metadata": {},
   "outputs": [],
   "source": [
    "def gaussian_mixture_models(capture, history=500, threshold=16, detectShadows=True, apply_morphological_operations=False):\n",
    "    YY = int(capture.get(cv2.CAP_PROP_FRAME_HEIGHT))\n",
    "    XX = int(capture.get(cv2.CAP_PROP_FRAME_WIDTH))\n",
    "\n",
    "    TP = 0\n",
    "    FP = 0\n",
    "    FN = 0\n",
    "\n",
    "    iterator = 1\n",
    "    \n",
    "    fgbg = cv2.createBackgroundSubtractorMOG2(history=history, varThreshold=threshold, detectShadows=detectShadows)\n",
    "\n",
    "    while True:\n",
    "        ret, frame = capture.read()\n",
    "        if ret:\n",
    "            truth_frame = cv2.imread('../groundtruth/gt%06d.png' % iterator, cv2.IMREAD_GRAYSCALE)\n",
    "            truth_frame = cv2.resize(truth_frame, (XX, YY))\n",
    "            \n",
    "            fgmask = fgbg.apply(frame)\n",
    "\n",
    "            if apply_morphological_operations:\n",
    "                kernel = np.ones((5,5), np.uint8)\n",
    "                fgmask = cv2.morphologyEx(fgmask, cv2.MORPH_CLOSE, kernel)\n",
    "                fgmask = cv2.morphologyEx(fgmask, cv2.MORPH_OPEN, kernel)\n",
    "\n",
    "            # show diff image\n",
    "            cv2.imshow('diff', fgmask)\n",
    "\n",
    "            # calculate f1 using ground truth\n",
    "            if iterator >= 300:\n",
    "                TP += np.sum(np.logical_and(fgmask > 0, truth_frame > 0))\n",
    "                FP += np.sum(np.logical_and(fgmask > 0, truth_frame == 0))\n",
    "                FN += np.sum(np.logical_and(fgmask == 0, truth_frame > 0))\n",
    "\n",
    "            if cv2.waitKey(1) & 0xFF == ord('q'):\n",
    "                break\n",
    "        else:\n",
    "            break\n",
    "        iterator += 1\n",
    "    cv2.destroyAllWindows()\n",
    "\n",
    "    precission = TP / (TP + FP)\n",
    "    recall = TP / (TP + FN)\n",
    "    f1 = 2 * TP / (2 * TP + FP + FN)\n",
    "    print('Precission: %f' % precission)\n",
    "    print('Recall: %f' % recall)\n",
    "    print('F1: %f' % f1)"
   ]
  },
  {
   "cell_type": "code",
   "execution_count": 52,
   "metadata": {},
   "outputs": [
    {
     "name": "stdout",
     "output_type": "stream",
     "text": [
      "TP: 855711 | FP: 1199277 | FN: 1169950\n",
      "Precission: 0.416407\n",
      "Recall: 0.422435\n",
      "F1: 0.419399\n"
     ]
    }
   ],
   "source": [
    "capture = cv2.VideoCapture('pedestrians_input.mp4')\n",
    "gaussian_mixture_models(capture)"
   ]
  },
  {
   "cell_type": "code",
   "execution_count": 58,
   "metadata": {},
   "outputs": [
    {
     "name": "stdout",
     "output_type": "stream",
     "text": [
      "Precission: 0.416407\n",
      "Recall: 0.422435\n",
      "F1: 0.419399\n"
     ]
    }
   ],
   "source": [
    "capture = cv2.VideoCapture('pedestrians_input.mp4')\n",
    "gaussian_mixture_models(capture, detectShadows=True)"
   ]
  },
  {
   "cell_type": "code",
   "execution_count": 59,
   "metadata": {},
   "outputs": [
    {
     "name": "stdout",
     "output_type": "stream",
     "text": [
      "Precission: 0.515695\n",
      "Recall: 0.375884\n",
      "F1: 0.434828\n"
     ]
    }
   ],
   "source": [
    "capture = cv2.VideoCapture('pedestrians_input.mp4')\n",
    "gaussian_mixture_models(capture, threshold=32, detectShadows=False)"
   ]
  },
  {
   "cell_type": "code",
   "execution_count": 60,
   "metadata": {},
   "outputs": [
    {
     "name": "stdout",
     "output_type": "stream",
     "text": [
      "Precission: 0.251850\n",
      "Recall: 0.248584\n",
      "F1: 0.250206\n"
     ]
    }
   ],
   "source": [
    "capture = cv2.VideoCapture('pedestrians_input.mp4')\n",
    "gaussian_mixture_models(capture, history=5, detectShadows=False)"
   ]
  },
  {
   "cell_type": "code",
   "execution_count": 62,
   "metadata": {},
   "outputs": [
    {
     "name": "stdout",
     "output_type": "stream",
     "text": [
      "Precission: 0.545978\n",
      "Recall: 0.444394\n",
      "F1: 0.489976\n"
     ]
    }
   ],
   "source": [
    "capture = cv2.VideoCapture('pedestrians_input.mp4')\n",
    "gaussian_mixture_models(capture, threshold=32, detectShadows=False, apply_morphological_operations=True)"
   ]
  },
  {
   "cell_type": "code",
   "execution_count": 64,
   "metadata": {},
   "outputs": [],
   "source": [
    "def knn(capture, history=500, distance=400.0, detectShadows=True, apply_morphological_operations=False):\n",
    "    YY = int(capture.get(cv2.CAP_PROP_FRAME_HEIGHT))\n",
    "    XX = int(capture.get(cv2.CAP_PROP_FRAME_WIDTH))\n",
    "\n",
    "    TP = 0\n",
    "    FP = 0\n",
    "    FN = 0\n",
    "\n",
    "    iterator = 1\n",
    "    \n",
    "    fgbg = cv2.createBackgroundSubtractorKNN(history=history, dist2Threshold=distance, detectShadows=detectShadows)\n",
    "\n",
    "    while True:\n",
    "        ret, frame = capture.read()\n",
    "        if ret:\n",
    "            truth_frame = cv2.imread('../groundtruth/gt%06d.png' % iterator, cv2.IMREAD_GRAYSCALE)\n",
    "            truth_frame = cv2.resize(truth_frame, (XX, YY))\n",
    "            \n",
    "            fgmask = fgbg.apply(frame)\n",
    "\n",
    "            if apply_morphological_operations:\n",
    "                kernel = np.ones((5,5), np.uint8)\n",
    "                fgmask = cv2.morphologyEx(fgmask, cv2.MORPH_CLOSE, kernel)\n",
    "                fgmask = cv2.morphologyEx(fgmask, cv2.MORPH_OPEN, kernel)\n",
    "\n",
    "            # show diff image\n",
    "            cv2.imshow('diff', fgmask)\n",
    "\n",
    "            # calculate f1 using ground truth\n",
    "            if iterator >= 300:\n",
    "                TP += np.sum(np.logical_and(fgmask > 0, truth_frame > 0))\n",
    "                FP += np.sum(np.logical_and(fgmask > 0, truth_frame == 0))\n",
    "                FN += np.sum(np.logical_and(fgmask == 0, truth_frame > 0))\n",
    "\n",
    "            if cv2.waitKey(1) & 0xFF == ord('q'):\n",
    "                break\n",
    "        else:\n",
    "            break\n",
    "        iterator += 1\n",
    "    cv2.destroyAllWindows()\n",
    "\n",
    "    precission = TP / (TP + FP)\n",
    "    recall = TP / (TP + FN)\n",
    "    f1 = 2 * TP / (2 * TP + FP + FN)\n",
    "    print('Precission: %f' % precission)\n",
    "    print('Recall: %f' % recall)\n",
    "    print('F1: %f' % f1)"
   ]
  },
  {
   "cell_type": "code",
   "execution_count": 65,
   "metadata": {},
   "outputs": [
    {
     "name": "stdout",
     "output_type": "stream",
     "text": [
      "Precission: 0.483599\n",
      "Recall: 0.376745\n",
      "F1: 0.423536\n"
     ]
    }
   ],
   "source": [
    "capture = cv2.VideoCapture('pedestrians_input.mp4')\n",
    "knn(capture)"
   ]
  },
  {
   "cell_type": "code",
   "execution_count": 67,
   "metadata": {},
   "outputs": [
    {
     "name": "stdout",
     "output_type": "stream",
     "text": [
      "Precission: 0.483898\n",
      "Recall: 0.376813\n",
      "F1: 0.423694\n"
     ]
    }
   ],
   "source": [
    "capture = cv2.VideoCapture('pedestrians_input.mp4')\n",
    "knn(capture, detectShadows=False)"
   ]
  },
  {
   "cell_type": "code",
   "execution_count": 69,
   "metadata": {},
   "outputs": [
    {
     "name": "stdout",
     "output_type": "stream",
     "text": [
      "Precission: 0.221441\n",
      "Recall: 0.457756\n",
      "F1: 0.298488\n"
     ]
    }
   ],
   "source": [
    "capture = cv2.VideoCapture('pedestrians_input.mp4')\n",
    "knn(capture, distance=100.0)"
   ]
  },
  {
   "cell_type": "code",
   "execution_count": 73,
   "metadata": {},
   "outputs": [
    {
     "name": "stdout",
     "output_type": "stream",
     "text": [
      "Precission: 0.519531\n",
      "Recall: 0.430653\n",
      "F1: 0.470935\n"
     ]
    }
   ],
   "source": [
    "capture = cv2.VideoCapture('pedestrians_input.mp4')\n",
    "knn(capture, distance=394.0, apply_morphological_operations=True)"
   ]
  },
  {
   "cell_type": "code",
   "execution_count": null,
   "metadata": {},
   "outputs": [],
   "source": []
  }
 ],
 "metadata": {
  "kernelspec": {
   "display_name": "algwiz",
   "language": "python",
   "name": "python3"
  },
  "language_info": {
   "codemirror_mode": {
    "name": "ipython",
    "version": 3
   },
   "file_extension": ".py",
   "mimetype": "text/x-python",
   "name": "python",
   "nbconvert_exporter": "python",
   "pygments_lexer": "ipython3",
   "version": "3.8.18"
  }
 },
 "nbformat": 4,
 "nbformat_minor": 2
}
